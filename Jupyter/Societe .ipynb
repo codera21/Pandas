{
 "cells": [
  {
   "cell_type": "code",
   "execution_count": 1,
   "metadata": {},
   "outputs": [],
   "source": [
    "import pandas as pd "
   ]
  },
  {
   "cell_type": "code",
   "execution_count": 2,
   "metadata": {},
   "outputs": [],
   "source": [
    "df =  pd.read_csv('Files/societe.csv')"
   ]
  },
  {
   "cell_type": "code",
   "execution_count": 3,
   "metadata": {},
   "outputs": [
    {
     "data": {
      "text/plain": [
       "title         13968\n",
       "ceo1           8970\n",
       "ceo2           4103\n",
       "search_url    16949\n",
       "url           16816\n",
       "dtype: int64"
      ]
     },
     "execution_count": 3,
     "metadata": {},
     "output_type": "execute_result"
    }
   ],
   "source": [
    "df.count()"
   ]
  },
  {
   "cell_type": "code",
   "execution_count": 4,
   "metadata": {},
   "outputs": [
    {
     "data": {
      "text/html": [
       "<div>\n",
       "<style scoped>\n",
       "    .dataframe tbody tr th:only-of-type {\n",
       "        vertical-align: middle;\n",
       "    }\n",
       "\n",
       "    .dataframe tbody tr th {\n",
       "        vertical-align: top;\n",
       "    }\n",
       "\n",
       "    .dataframe thead th {\n",
       "        text-align: right;\n",
       "    }\n",
       "</style>\n",
       "<table border=\"1\" class=\"dataframe\">\n",
       "  <thead>\n",
       "    <tr style=\"text-align: right;\">\n",
       "      <th></th>\n",
       "      <th>title</th>\n",
       "      <th>ceo1</th>\n",
       "      <th>ceo2</th>\n",
       "      <th>search_url</th>\n",
       "      <th>url</th>\n",
       "    </tr>\n",
       "  </thead>\n",
       "  <tbody>\n",
       "    <tr>\n",
       "      <th>0</th>\n",
       "      <td>LA BAITA</td>\n",
       "      <td>M Yusuf KARA\\n\\t\\t\\t\\t\\t\\t\\t\\n\\t\\t\\t\\t\\t\\t\\t\\n...</td>\n",
       "      <td>NaN</td>\n",
       "      <td>https://www.google.com/search?q=societe.com+la...</td>\n",
       "      <td>https://www.societe.com/societe/la-baita-53454...</td>\n",
       "    </tr>\n",
       "    <tr>\n",
       "      <th>1</th>\n",
       "      <td>GESTION EQUIVAR (SELLERIE EQUIVAR, EQUIVAR)</td>\n",
       "      <td>NaN</td>\n",
       "      <td>MME Catherine MURCIA\\n\\t\\t\\t\\t\\t\\t\\t\\n\\t\\t\\t\\t...</td>\n",
       "      <td>https://www.google.com/search?q=societe.com+se...</td>\n",
       "      <td>https://www.societe.com/societe/gestion-equiva...</td>\n",
       "    </tr>\n",
       "    <tr>\n",
       "      <th>2</th>\n",
       "      <td>NEOEN</td>\n",
       "      <td>NaN</td>\n",
       "      <td>M Xavier BARBARO\\n\\t\\t\\t\\t\\t\\t\\t\\n\\t\\t\\t\\t\\t\\t...</td>\n",
       "      <td>https://www.google.com/search?q=societe.com+im...</td>\n",
       "      <td>https://www.societe.com/societe/neoen-50832001...</td>\n",
       "    </tr>\n",
       "    <tr>\n",
       "      <th>3</th>\n",
       "      <td>ARCANE GROUP</td>\n",
       "      <td>NaN</td>\n",
       "      <td>M Francois CURTET\\n\\t\\t\\t\\t\\t\\t\\t\\n\\t\\t\\t\\t\\t\\...</td>\n",
       "      <td>https://www.google.com/search?q=societe.com+ar...</td>\n",
       "      <td>https://www.societe.com/societe/arcane-group-5...</td>\n",
       "    </tr>\n",
       "    <tr>\n",
       "      <th>4</th>\n",
       "      <td>LABORATOIRES DERMATOLOGIQUES A-DERMA</td>\n",
       "      <td>NaN</td>\n",
       "      <td>M Stephane LABATTUT\\n\\t\\t\\t\\t\\t\\t\\t\\n\\t\\t\\t\\t\\...</td>\n",
       "      <td>https://www.google.com/search?q=societe.com+ad...</td>\n",
       "      <td>https://www.societe.com/societe/laboratoires-d...</td>\n",
       "    </tr>\n",
       "  </tbody>\n",
       "</table>\n",
       "</div>"
      ],
      "text/plain": [
       "                                         title  \\\n",
       "0                                     LA BAITA   \n",
       "1  GESTION EQUIVAR (SELLERIE EQUIVAR, EQUIVAR)   \n",
       "2                                        NEOEN   \n",
       "3                                 ARCANE GROUP   \n",
       "4         LABORATOIRES DERMATOLOGIQUES A-DERMA   \n",
       "\n",
       "                                                ceo1  \\\n",
       "0  M Yusuf KARA\\n\\t\\t\\t\\t\\t\\t\\t\\n\\t\\t\\t\\t\\t\\t\\t\\n...   \n",
       "1                                                NaN   \n",
       "2                                                NaN   \n",
       "3                                                NaN   \n",
       "4                                                NaN   \n",
       "\n",
       "                                                ceo2  \\\n",
       "0                                                NaN   \n",
       "1  MME Catherine MURCIA\\n\\t\\t\\t\\t\\t\\t\\t\\n\\t\\t\\t\\t...   \n",
       "2  M Xavier BARBARO\\n\\t\\t\\t\\t\\t\\t\\t\\n\\t\\t\\t\\t\\t\\t...   \n",
       "3  M Francois CURTET\\n\\t\\t\\t\\t\\t\\t\\t\\n\\t\\t\\t\\t\\t\\...   \n",
       "4  M Stephane LABATTUT\\n\\t\\t\\t\\t\\t\\t\\t\\n\\t\\t\\t\\t\\...   \n",
       "\n",
       "                                          search_url  \\\n",
       "0  https://www.google.com/search?q=societe.com+la...   \n",
       "1  https://www.google.com/search?q=societe.com+se...   \n",
       "2  https://www.google.com/search?q=societe.com+im...   \n",
       "3  https://www.google.com/search?q=societe.com+ar...   \n",
       "4  https://www.google.com/search?q=societe.com+ad...   \n",
       "\n",
       "                                                 url  \n",
       "0  https://www.societe.com/societe/la-baita-53454...  \n",
       "1  https://www.societe.com/societe/gestion-equiva...  \n",
       "2  https://www.societe.com/societe/neoen-50832001...  \n",
       "3  https://www.societe.com/societe/arcane-group-5...  \n",
       "4  https://www.societe.com/societe/laboratoires-d...  "
      ]
     },
     "execution_count": 4,
     "metadata": {},
     "output_type": "execute_result"
    }
   ],
   "source": [
    "df.head()"
   ]
  },
  {
   "cell_type": "code",
   "execution_count": null,
   "metadata": {},
   "outputs": [],
   "source": []
  }
 ],
 "metadata": {
  "kernelspec": {
   "display_name": "Python 3",
   "language": "python",
   "name": "python3"
  },
  "language_info": {
   "codemirror_mode": {
    "name": "ipython",
    "version": 3
   },
   "file_extension": ".py",
   "mimetype": "text/x-python",
   "name": "python",
   "nbconvert_exporter": "python",
   "pygments_lexer": "ipython3",
   "version": "3.7.3"
  }
 },
 "nbformat": 4,
 "nbformat_minor": 2
}
