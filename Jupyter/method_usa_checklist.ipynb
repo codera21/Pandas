{
 "cells": [
  {
   "cell_type": "code",
   "execution_count": 1,
   "metadata": {},
   "outputs": [],
   "source": [
    "import pandas as pd\n",
    "class bcolors:\n",
    "    HEADER = '\\033[95m'\n",
    "    OKBLUE = '\\033[94m'\n",
    "    OKGREEN = '\\033[92m'\n",
    "    WARNING = '\\033[93m'\n",
    "    FAIL = '\\033[91m'\n",
    "    ENDC = '\\033[0m'\n",
    "    BOLD = '\\033[1m'\n",
    "    UNDERLINE = '\\033[4m'"
   ]
  },
  {
   "cell_type": "code",
   "execution_count": 2,
   "metadata": {},
   "outputs": [],
   "source": [
    "#input file could be in excel or csv format\n",
    "try:\n",
    "    df = pd.read_csv('Files/am.csv')\n",
    "except:\n",
    "    df = pd.read_excel('Files/am.xlsx')"
   ]
  },
  {
   "cell_type": "code",
   "execution_count": 3,
   "metadata": {
    "scrolled": true
   },
   "outputs": [],
   "source": [
    "counts = df.count()"
   ]
  },
  {
   "cell_type": "code",
   "execution_count": 4,
   "metadata": {},
   "outputs": [
    {
     "name": "stdout",
     "output_type": "stream",
     "text": [
      "Description #1 checklist passed\n"
     ]
    }
   ],
   "source": [
    "#checklist 1: SKU count must match with that of  description #1 \n",
    "if(counts['SKU'] != counts['Description #1']):\n",
    "    print('ERR: Description #1 count do not match')\n",
    "else:\n",
    "    print('Description #1 checklist passed')"
   ]
  },
  {
   "cell_type": "code",
   "execution_count": 5,
   "metadata": {},
   "outputs": [
    {
     "name": "stdout",
     "output_type": "stream",
     "text": [
      "MRFPart# checklist passed\n"
     ]
    }
   ],
   "source": [
    "#checklist 2: SKU count must match with that of Manufacturer part #  \n",
    "if(counts['SKU'] != counts['MFRPart #']):\n",
    "    print('ERR: MRFPart# count do not match')\n",
    "else:\n",
    "    print('MRFPart# checklist passed')"
   ]
  },
  {
   "cell_type": "code",
   "execution_count": 6,
   "metadata": {},
   "outputs": [
    {
     "name": "stdout",
     "output_type": "stream",
     "text": [
      "Manufacturer checklist passed\n"
     ]
    }
   ],
   "source": [
    "#checklist 3: SKU count must match with that of Manufacturer  \n",
    "if(counts['SKU'] != counts['Manufacturer']):\n",
    "    print('ERR: Manufacturer count do not match')\n",
    "else:\n",
    "    print('Manufacturer checklist passed')"
   ]
  },
  {
   "cell_type": "code",
   "execution_count": 7,
   "metadata": {},
   "outputs": [
    {
     "name": "stdout",
     "output_type": "stream",
     "text": [
      "Price Date checklist passed\n"
     ]
    }
   ],
   "source": [
    "# checklist 4: SKU count must match with that of Price Date  \n",
    "if(counts['SKU'] != counts['Price Date']):\n",
    "    print('ERR: Price Date count do not match')\n",
    "else:\n",
    "    print('Price Date checklist passed')"
   ]
  },
  {
   "cell_type": "code",
   "execution_count": 8,
   "metadata": {},
   "outputs": [
    {
     "name": "stdout",
     "output_type": "stream",
     "text": [
      "ProductPageURL checklist passed\n"
     ]
    }
   ],
   "source": [
    "# because product page url is written in so many different ways \n",
    "try:\n",
    "    product_page_url = counts['ProductPageURL']\n",
    "except: \n",
    "    try:\n",
    "        product_page_url = counts['Product Page URL']\n",
    "    except:\n",
    "        try:\n",
    "            product_page_url = counts['ProductPage URL']\n",
    "        except:\n",
    "            product_page_url = counts['ProductPage Url']\n",
    "\n",
    "#checklist 5: SKU count must match with that of ProductPageURL\n",
    "if(counts['SKU'] != product_page_url):\n",
    "    print('ERR: ProductPageURL count do not match')\n",
    "else:\n",
    "    print('ProductPageURL checklist passed')"
   ]
  },
  {
   "cell_type": "code",
   "execution_count": 9,
   "metadata": {},
   "outputs": [
    {
     "name": "stdout",
     "output_type": "stream",
     "text": [
      "\u001b[91mERR: Category #1 count do not match\u001b[0m\n"
     ]
    }
   ],
   "source": [
    "# checklist 6: Category #1 must match with SKU count\n",
    "if(counts['SKU'] != counts['Category #1']):\n",
    "    print('{}ERR: Category #1 count do not match{}'.format(bcolors.FAIL, bcolors.ENDC))\n",
    "else:\n",
    "    print('Category #1 checklist passed')"
   ]
  },
  {
   "cell_type": "code",
   "execution_count": null,
   "metadata": {},
   "outputs": [],
   "source": []
  }
 ],
 "metadata": {
  "kernelspec": {
   "display_name": "Python 3",
   "language": "python",
   "name": "python3"
  },
  "language_info": {
   "codemirror_mode": {
    "name": "ipython",
    "version": 3
   },
   "file_extension": ".py",
   "mimetype": "text/x-python",
   "name": "python",
   "nbconvert_exporter": "python",
   "pygments_lexer": "ipython3",
   "version": "3.6.9"
  }
 },
 "nbformat": 4,
 "nbformat_minor": 2
}
