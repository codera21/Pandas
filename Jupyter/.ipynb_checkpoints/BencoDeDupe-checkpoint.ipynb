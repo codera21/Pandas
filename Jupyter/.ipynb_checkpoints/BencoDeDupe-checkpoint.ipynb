{
 "cells": [
  {
   "cell_type": "code",
   "execution_count": 1,
   "metadata": {},
   "outputs": [],
   "source": [
    "import pandas as pd \n",
    "df = pd.read_excel('Files/benco_new.xlsx')\n"
   ]
  },
  {
   "cell_type": "code",
   "execution_count": 2,
   "metadata": {},
   "outputs": [
    {
     "data": {
      "text/plain": [
       "SKU                    160167\n",
       "Description #1         160167\n",
       "Description #2         105907\n",
       "MFR Part #             160166\n",
       "Manufacturer           160167\n",
       "Price                  103415\n",
       "Price Date             160167\n",
       "Availability Status    160167\n",
       "Category #1            160166\n",
       "Category #2            160166\n",
       "Category #3                 0\n",
       "Category #4                 0\n",
       "Product Page URL       160167\n",
       "Image URL              118575\n",
       "dtype: int64"
      ]
     },
     "execution_count": 2,
     "metadata": {},
     "output_type": "execute_result"
    }
   ],
   "source": [
    "df.count()"
   ]
  },
  {
   "cell_type": "code",
   "execution_count": 3,
   "metadata": {},
   "outputs": [
    {
     "data": {
      "text/plain": [
       "SKU                    108539\n",
       "Description #1         108539\n",
       "Description #2          72272\n",
       "MFR Part #             108539\n",
       "Manufacturer           108539\n",
       "Price                   51787\n",
       "Price Date             108539\n",
       "Availability Status    108539\n",
       "Category #1            108539\n",
       "Category #2            108539\n",
       "Category #3                 0\n",
       "Category #4                 0\n",
       "Product Page URL       108539\n",
       "Image URL               82522\n",
       "dtype: int64"
      ]
     },
     "execution_count": 3,
     "metadata": {},
     "output_type": "execute_result"
    }
   ],
   "source": [
    "df = df.drop_duplicates(subset=['Product Page URL'])\n",
    "df.count()"
   ]
  },
  {
   "cell_type": "code",
   "execution_count": null,
   "metadata": {},
   "outputs": [],
   "source": [
    "df.to_excel('BencoDeDuped.xlsx' , index=False);"
   ]
  }
 ],
 "metadata": {
  "kernelspec": {
   "display_name": "Python 3",
   "language": "python",
   "name": "python3"
  },
  "language_info": {
   "codemirror_mode": {
    "name": "ipython",
    "version": 3
   },
   "file_extension": ".py",
   "mimetype": "text/x-python",
   "name": "python",
   "nbconvert_exporter": "python",
   "pygments_lexer": "ipython3",
   "version": "3.6.8"
  }
 },
 "nbformat": 4,
 "nbformat_minor": 2
}
