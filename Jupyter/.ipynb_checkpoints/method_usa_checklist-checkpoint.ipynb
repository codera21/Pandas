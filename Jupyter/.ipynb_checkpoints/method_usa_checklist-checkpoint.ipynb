{
 "cells": [
  {
   "cell_type": "code",
   "execution_count": 1,
   "metadata": {},
   "outputs": [],
   "source": [
    "import pandas as pd  "
   ]
  },
  {
   "cell_type": "code",
   "execution_count": 2,
   "metadata": {},
   "outputs": [],
   "source": [
    "df = pd.read_csv('Files/am.csv')"
   ]
  },
  {
   "cell_type": "code",
   "execution_count": 3,
   "metadata": {},
   "outputs": [
    {
     "data": {
      "text/plain": [
       "Index(['SKU', 'Description #1', 'Description #2', 'MFRPart #', 'Manufacturer',\n",
       "       'Price', 'Price Date', 'Availability Status', 'Category #1',\n",
       "       'Category #2', 'Category #3', 'Category #4', 'ProductPageURL',\n",
       "       'ImageURL'],\n",
       "      dtype='object')"
      ]
     },
     "execution_count": 3,
     "metadata": {},
     "output_type": "execute_result"
    }
   ],
   "source": [
    "cols = df.columns\n",
    "cols"
   ]
  },
  {
   "cell_type": "code",
   "execution_count": 4,
   "metadata": {
    "scrolled": true
   },
   "outputs": [
    {
     "data": {
      "text/plain": [
       "SKU                    27431\n",
       "Description #1         27431\n",
       "Description #2         26078\n",
       "MFRPart #              27431\n",
       "Manufacturer           27431\n",
       "Price                  27431\n",
       "Price Date             27431\n",
       "Availability Status        0\n",
       "Category #1            27393\n",
       "Category #2            27360\n",
       "Category #3                0\n",
       "Category #4                0\n",
       "ProductPageURL         27431\n",
       "ImageURL               27310\n",
       "dtype: int64"
      ]
     },
     "execution_count": 4,
     "metadata": {},
     "output_type": "execute_result"
    }
   ],
   "source": [
    "counts = df.count()\n",
    "counts"
   ]
  },
  {
   "cell_type": "code",
   "execution_count": 5,
   "metadata": {},
   "outputs": [
    {
     "name": "stdout",
     "output_type": "stream",
     "text": [
      "Description #1 checklist passed\n"
     ]
    }
   ],
   "source": [
    "#checklist 1: SKU count must match with that of  description #1 \n",
    "if(counts['SKU'] != counts['Description #1']):\n",
    "    print('ERR: Description #1 count do not match')\n",
    "else:\n",
    "    print('Description #1 checklist passed')"
   ]
  },
  {
   "cell_type": "code",
   "execution_count": 6,
   "metadata": {},
   "outputs": [
    {
     "name": "stdout",
     "output_type": "stream",
     "text": [
      "MRFPart# checklist passed\n"
     ]
    }
   ],
   "source": [
    "#checklist 2: SKU count must match with that of Manufacturer part #  \n",
    "if(counts['SKU'] != counts['MFRPart #']):\n",
    "    print('ERR: MRFPart# count do not match')\n",
    "else:\n",
    "    print('MRFPart# checklist passed')"
   ]
  },
  {
   "cell_type": "code",
   "execution_count": 7,
   "metadata": {},
   "outputs": [
    {
     "name": "stdout",
     "output_type": "stream",
     "text": [
      "Manufacturer checklist passed\n"
     ]
    }
   ],
   "source": [
    "#checklist 3: SKU count must match with that of Manufacturer  \n",
    "if(counts['SKU'] != counts['Manufacturer']):\n",
    "    print('ERR: Manufacturer count do not match')\n",
    "else:\n",
    "    print('Manufacturer checklist passed')"
   ]
  },
  {
   "cell_type": "code",
   "execution_count": 8,
   "metadata": {},
   "outputs": [
    {
     "name": "stdout",
     "output_type": "stream",
     "text": [
      "Price Date checklist passed\n"
     ]
    }
   ],
   "source": [
    "# checklist 4: SKU count must match with that of Price Date  \n",
    "if(counts['SKU'] != counts['Price Date']):\n",
    "    print('ERR: Price Date count do not match')\n",
    "else:\n",
    "    print('Price Date checklist passed')"
   ]
  },
  {
   "cell_type": "code",
   "execution_count": 10,
   "metadata": {},
   "outputs": [
    {
     "data": {
      "text/plain": [
       "27431"
      ]
     },
     "execution_count": 10,
     "metadata": {},
     "output_type": "execute_result"
    }
   ],
   "source": [
    "# because product page url is written in so many different ways \n",
    "try:\n",
    "    product_page_url = counts['ProductPageURL']\n",
    "except: \n",
    "    try:\n",
    "        product_page_url = counts['Product Page URL']\n",
    "    except:\n",
    "        try:\n",
    "            product_page_url = counts['ProductPage URL']\n",
    "        except:\n",
    "            product_page_url = counts['ProductPage Url']\n",
    "\n",
    "#checklist 5: SKU count must match with that of ProductPageURL\n",
    "if(counts['SKU'] != product_page_url1\n",
    "    print('ERR: ProductPageURL count do not match')"
   ]
  },
  {
   "cell_type": "code",
   "execution_count": null,
   "metadata": {},
   "outputs": [],
   "source": []
  },
  {
   "cell_type": "code",
   "execution_count": null,
   "metadata": {},
   "outputs": [],
   "source": []
  },
  {
   "cell_type": "code",
   "execution_count": null,
   "metadata": {},
   "outputs": [],
   "source": []
  }
 ],
 "metadata": {
  "kernelspec": {
   "display_name": "Python 3",
   "language": "python",
   "name": "python3"
  },
  "language_info": {
   "codemirror_mode": {
    "name": "ipython",
    "version": 3
   },
   "file_extension": ".py",
   "mimetype": "text/x-python",
   "name": "python",
   "nbconvert_exporter": "python",
   "pygments_lexer": "ipython3",
   "version": "3.6.9"
  }
 },
 "nbformat": 4,
 "nbformat_minor": 2
}
