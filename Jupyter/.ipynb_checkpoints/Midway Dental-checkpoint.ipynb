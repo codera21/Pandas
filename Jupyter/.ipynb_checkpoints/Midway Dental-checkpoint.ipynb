{
 "cells": [
  {
   "cell_type": "code",
   "execution_count": 9,
   "metadata": {},
   "outputs": [
    {
     "name": "stdout",
     "output_type": "stream",
     "text": [
      "SKU                    148526\n",
      "Description #1         148526\n",
      "Description #2          92085\n",
      "MFR Part #             148524\n",
      "Manufacturer           148526\n",
      "Price                  144574\n",
      "Price Date             148526\n",
      "Availability Status    148526\n",
      "Category #1            148524\n",
      "Category #2            148524\n",
      "Category #3                 0\n",
      "Category #4                 0\n",
      "Product Page URL       148526\n",
      "Image URL              105469\n",
      "dtype: int64\n"
     ]
    }
   ],
   "source": [
    "import pandas as pd\n",
    "\n",
    "df = pd.read_excel('Files/benco.xlsx')\n",
    "df.count()"
   ]
  },
  {
   "cell_type": "code",
   "execution_count": null,
   "metadata": {},
   "outputs": [],
   "source": [
    "df = df.drop_duplicates()\n",
    "df.count()"
   ]
  }
 ],
 "metadata": {
  "kernelspec": {
   "display_name": "Python 3",
   "language": "python",
   "name": "python3"
  },
  "language_info": {
   "codemirror_mode": {
    "name": "ipython",
    "version": 3
   },
   "file_extension": ".py",
   "mimetype": "text/x-python",
   "name": "python",
   "nbconvert_exporter": "python",
   "pygments_lexer": "ipython3",
   "version": "3.6.8"
  }
 },
 "nbformat": 4,
 "nbformat_minor": 2
}
