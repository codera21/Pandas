{
 "cells": [
  {
   "cell_type": "code",
   "execution_count": 1,
   "metadata": {},
   "outputs": [
    {
     "data": {
      "text/plain": [
       "SKU                    148526\n",
       "Description #1         148526\n",
       "Description #2          92085\n",
       "MFR Part #             148524\n",
       "Manufacturer           148526\n",
       "Price                  144574\n",
       "Price Date             148526\n",
       "Availability Status    148526\n",
       "Category #1            148524\n",
       "Category #2            148524\n",
       "Category #3                 0\n",
       "Category #4                 0\n",
       "Product Page URL       148526\n",
       "Image URL              105469\n",
       "dtype: int64"
      ]
     },
     "execution_count": 1,
     "metadata": {},
     "output_type": "execute_result"
    }
   ],
   "source": [
    "import pandas as pd\n",
    "\n",
    "df = pd.read_excel('Files/md')\n",
    "df.count()"
   ]
  },
  {
   "cell_type": "code",
   "execution_count": 2,
   "metadata": {},
   "outputs": [
    {
     "data": {
      "text/plain": [
       "SKU                    84684\n",
       "Description #1         84684\n",
       "Description #2         59014\n",
       "MFR Part #             84682\n",
       "Manufacturer           84684\n",
       "Price                  80732\n",
       "Price Date             84684\n",
       "Availability Status    84684\n",
       "Category #1            84682\n",
       "Category #2            84682\n",
       "Category #3                0\n",
       "Category #4                0\n",
       "Product Page URL       84684\n",
       "Image URL              68994\n",
       "dtype: int64"
      ]
     },
     "execution_count": 2,
     "metadata": {},
     "output_type": "execute_result"
    }
   ],
   "source": [
    "df = df.drop_duplicates()\n",
    "df.count()"
   ]
  },
  {
   "cell_type": "code",
   "execution_count": 4,
   "metadata": {},
   "outputs": [
    {
     "name": "stdout",
     "output_type": "stream",
     "text": [
      "File Added\n"
     ]
    }
   ],
   "source": [
    "df.to_excel('benco_deduped.xlsx', index=False)\n",
    "print('File Added')"
   ]
  },
  {
   "cell_type": "code",
   "execution_count": null,
   "metadata": {},
   "outputs": [],
   "source": []
  }
 ],
 "metadata": {
  "kernelspec": {
   "display_name": "Python 3",
   "language": "python",
   "name": "python3"
  },
  "language_info": {
   "codemirror_mode": {
    "name": "ipython",
    "version": 3
   },
   "file_extension": ".py",
   "mimetype": "text/x-python",
   "name": "python",
   "nbconvert_exporter": "python",
   "pygments_lexer": "ipython3",
   "version": "3.7.3"
  }
 },
 "nbformat": 4,
 "nbformat_minor": 2
}
