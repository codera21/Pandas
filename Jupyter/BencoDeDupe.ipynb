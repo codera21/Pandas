{
 "cells": [
  {
   "cell_type": "code",
   "execution_count": 1,
   "metadata": {},
   "outputs": [],
   "source": [
    "import pandas as pd \n",
    "df = pd.read_excel('Files/benco.xlsx')\n"
   ]
  },
  {
   "cell_type": "code",
   "execution_count": 2,
   "metadata": {},
   "outputs": [
    {
     "data": {
      "text/plain": [
       "SKU                    100515\n",
       "Description #1         100515\n",
       "Description #2          62740\n",
       "MFR Part #             100514\n",
       "Manufacturer           100515\n",
       "Price                   51681\n",
       "Price Date             100515\n",
       "Availability Status    100515\n",
       "Category #1            100514\n",
       "Category #2            100514\n",
       "Category #3                 0\n",
       "Category #4                 0\n",
       "Product Page URL       100515\n",
       "Image URL               74686\n",
       "dtype: int64"
      ]
     },
     "execution_count": 2,
     "metadata": {},
     "output_type": "execute_result"
    }
   ],
   "source": [
    "df.count()"
   ]
  },
  {
   "cell_type": "code",
   "execution_count": 3,
   "metadata": {},
   "outputs": [
    {
     "data": {
      "text/plain": [
       "SKU                    82670\n",
       "Description #1         82670\n",
       "Description #2         58631\n",
       "MFR Part #             82669\n",
       "Manufacturer           82670\n",
       "Price                  51681\n",
       "Price Date             82670\n",
       "Availability Status    82670\n",
       "Category #1            82669\n",
       "Category #2            82669\n",
       "Category #3                0\n",
       "Category #4                0\n",
       "Product Page URL       82670\n",
       "Image URL              68622\n",
       "dtype: int64"
      ]
     },
     "execution_count": 3,
     "metadata": {},
     "output_type": "execute_result"
    }
   ],
   "source": [
    "df = df.drop_duplicates(subset=['SKU'])\n",
    "df.count()"
   ]
  },
  {
   "cell_type": "code",
   "execution_count": 4,
   "metadata": {},
   "outputs": [],
   "source": [
    "df.to_excel('BencoDeDuped.xlsx' , index=False)"
   ]
  },
  {
   "cell_type": "code",
   "execution_count": null,
   "metadata": {},
   "outputs": [],
   "source": []
  }
 ],
 "metadata": {
  "kernelspec": {
   "display_name": "Python 3",
   "language": "python",
   "name": "python3"
  },
  "language_info": {
   "codemirror_mode": {
    "name": "ipython",
    "version": 3
   },
   "file_extension": ".py",
   "mimetype": "text/x-python",
   "name": "python",
   "nbconvert_exporter": "python",
   "pygments_lexer": "ipython3",
   "version": "3.6.9"
  }
 },
 "nbformat": 4,
 "nbformat_minor": 2
}
