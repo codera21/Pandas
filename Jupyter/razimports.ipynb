{
 "cells": [
  {
   "cell_type": "code",
   "execution_count": 1,
   "metadata": {},
   "outputs": [],
   "source": [
    "import pandas as pd\n",
    "df = pd.read_csv('Files/aaa.csv')"
   ]
  },
  {
   "cell_type": "code",
   "execution_count": 2,
   "metadata": {},
   "outputs": [
    {
     "data": {
      "text/plain": [
       "Item Number               5324\n",
       "Display Name              5324\n",
       "BulletPoints              5308\n",
       "UPC                       5324\n",
       "Theme                     5312\n",
       "WholesalePrice-Minimum    5321\n",
       "WholesalePrice-Case       5321\n",
       "Status                    4473\n",
       "SoldOutStatus              162\n",
       "Exclusive                 5324\n",
       "Catalog                    987\n",
       "ImageUrl                  5324\n",
       "WholesalePrice-Inner      2350\n",
       "dtype: int64"
      ]
     },
     "execution_count": 2,
     "metadata": {},
     "output_type": "execute_result"
    }
   ],
   "source": [
    "df.count()"
   ]
  },
  {
   "cell_type": "code",
   "execution_count": 3,
   "metadata": {},
   "outputs": [
    {
     "data": {
      "text/plain": [
       "Item Number               5324\n",
       "Display Name              5324\n",
       "BulletPoints              5308\n",
       "UPC                       5324\n",
       "Theme                     5312\n",
       "WholesalePrice-Minimum    5321\n",
       "WholesalePrice-Case       5321\n",
       "Status                    4473\n",
       "SoldOutStatus              162\n",
       "Exclusive                 5324\n",
       "Catalog                    987\n",
       "ImageUrl                  5324\n",
       "WholesalePrice-Inner      2350\n",
       "dtype: int64"
      ]
     },
     "execution_count": 3,
     "metadata": {},
     "output_type": "execute_result"
    }
   ],
   "source": [
    "df = df.drop_duplicates()\n",
    "df.count()"
   ]
  }
 ],
 "metadata": {
  "kernelspec": {
   "display_name": "Python 3",
   "language": "python",
   "name": "python3"
  },
  "language_info": {
   "codemirror_mode": {
    "name": "ipython",
    "version": 3
   },
   "file_extension": ".py",
   "mimetype": "text/x-python",
   "name": "python",
   "nbconvert_exporter": "python",
   "pygments_lexer": "ipython3",
   "version": "3.6.9"
  }
 },
 "nbformat": 4,
 "nbformat_minor": 2
}
